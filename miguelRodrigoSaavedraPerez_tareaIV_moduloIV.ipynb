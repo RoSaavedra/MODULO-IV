{
 "cells": [
  {
   "cell_type": "markdown",
   "metadata": {},
   "source": [
    "Entrenando un modelo con PCA  \n",
    "\n",
    "Considerando xtrain, ytrain definido en las céldas de arriba, crea dos modelos:  \n",
    "\n",
    "Un pipeline considerando PCA con n_components=0.7 seguido de un modelo KNeighborsClassifier con n_neighbors=5  \n",
    "KNeighborsClassifier con n_neighbors=5  \n",
    "Realiza un cross validation con n_components=3.  \n",
    "\n",
    "¿Qué resultados arroja cada modelo?\n",
    "¿que ventajas tiene cada modelo?\n",
    "¿Cuánto tarda en correr cada cross-validation?"
   ]
  },
  {
   "cell_type": "code",
   "execution_count": 2,
   "metadata": {},
   "outputs": [],
   "source": [
    "#pip install --upgrade pip\n",
    "#pip install tensorflow\n",
    "\n",
    "from numpy.linalg import svd\n",
    "# conda install tensorflow\n",
    "from tensorflow.keras import datasets\n",
    "from sklearn.decomposition import PCA\n",
    "from sklearn.neighbors import KNeighborsClassifier\n",
    "from sklearn.pipeline import Pipeline\n",
    "from sklearn.metrics import confusion_matrix, accuracy_score\n",
    "from sklearn.model_selection import GridSearchCV, cross_val_score, train_test_split, cross_validate"
   ]
  },
  {
   "cell_type": "code",
   "execution_count": 3,
   "metadata": {},
   "outputs": [],
   "source": [
    "train, test = datasets.mnist.load_data()\n",
    "xtrain, ytrain = train\n",
    "xtest, ytest = test"
   ]
  },
  {
   "cell_type": "code",
   "execution_count": 4,
   "metadata": {},
   "outputs": [],
   "source": [
    "Ntr, M1tr, M2tr = xtrain.shape\n",
    "Nte, M1te, M2te = xtest.shape"
   ]
  },
  {
   "cell_type": "markdown",
   "metadata": {},
   "source": [
    "PRIMERO EXPLOREMOS CON EL PIPELINE HACIENDO REDUCCIÓN DE DIMENSIÓN Y KNC"
   ]
  },
  {
   "cell_type": "code",
   "execution_count": 5,
   "metadata": {},
   "outputs": [],
   "source": [
    "model = Pipeline((\n",
    " (\"PCA\", PCA(n_components=0.7)),\n",
    " (\"KNC\", KNeighborsClassifier(n_neighbors=5))   \n",
    " ))"
   ]
  },
  {
   "cell_type": "code",
   "execution_count": 8,
   "metadata": {},
   "outputs": [
    {
     "name": "stderr",
     "output_type": "stream",
     "text": [
      "C:\\Users\\migro\\Anaconda3\\lib\\site-packages\\sklearn\\pipeline.py:354: DataConversionWarning: A column-vector y was passed when a 1d array was expected. Please change the shape of y to (n_samples, ), for example using ravel().\n",
      "  self._final_estimator.fit(Xt, y, **fit_params)\n"
     ]
    },
    {
     "name": "stdout",
     "output_type": "stream",
     "text": [
      "accuracy: 0.9738\n",
      "Wall time: 22.7 s\n"
     ]
    }
   ],
   "source": [
    "%%time\n",
    "fit=model.fit(xtrain.reshape(Ntr, -1), ytrain.reshape(Ntr, -1))\n",
    "print(f\"accuracy: {accuracy_score(ytest.reshape(Nte, -1), fit.predict(xtest.reshape(Nte, -1)))}\")"
   ]
  },
  {
   "cell_type": "markdown",
   "metadata": {},
   "source": [
    "EXPLORAMOS SIN REDUCCIÓN DE DIMENSIÓN"
   ]
  },
  {
   "cell_type": "code",
   "execution_count": 52,
   "metadata": {},
   "outputs": [
    {
     "name": "stderr",
     "output_type": "stream",
     "text": [
      "C:\\Users\\migro\\Anaconda3\\lib\\site-packages\\ipykernel_launcher.py:2: DataConversionWarning: A column-vector y was passed when a 1d array was expected. Please change the shape of y to (n_samples, ), for example using ravel().\n",
      "  \n"
     ]
    },
    {
     "name": "stdout",
     "output_type": "stream",
     "text": [
      "accuracy: 0.9688\n",
      "Wall time: 29min 16s\n"
     ]
    }
   ],
   "source": [
    "%%time\n",
    "KNC=KNeighborsClassifier(n_neighbors=5)\n",
    "fit2=KNC.fit(xtrain.reshape(Ntr, -1), ytrain.reshape(Ntr, -1))\n",
    "print(f\"accuracy: {accuracy_score(ytest.reshape(Nte, -1), fit2.predict(xtest.reshape(Nte, -1)))}\")"
   ]
  },
  {
   "cell_type": "markdown",
   "metadata": {},
   "source": [
    "REALIZAMOS CROSSVALIDATION CON CV=3 PARA EL PIPE"
   ]
  },
  {
   "cell_type": "code",
   "execution_count": 54,
   "metadata": {},
   "outputs": [
    {
     "name": "stdout",
     "output_type": "stream",
     "text": [
      "mean r2: 0.94\n",
      "mean mae: 3.78\n",
      "Wall time: 1min 16s\n"
     ]
    }
   ],
   "source": [
    "%%time\n",
    "cv_pipe= cross_validate(model, xtrain.reshape(Ntr, -1), ytrain.reshape(Ntr, -1), cv=3, scoring=[\"r2\", \"neg_mean_absolute_error\"], n_jobs=-1)\n",
    "r2_pipe = cv_pipe[\"test_r2\"]\n",
    "mae_pipe = -cv_pipe[\"test_neg_mean_absolute_error\"]\n",
    "print(f\"mean r2: {r2_pipe.mean():0.2f}\")\n",
    "print(f\"mean mae: {mae_pipe.mean():,.2f}\")"
   ]
  },
  {
   "cell_type": "markdown",
   "metadata": {},
   "source": [
    "REALIZAMOS CROSSVALIDATION CON CV=3 SIN REDUCCIÓN DE DIMENSIÓN"
   ]
  },
  {
   "cell_type": "code",
   "execution_count": 10,
   "metadata": {},
   "outputs": [
    {
     "name": "stdout",
     "output_type": "stream",
     "text": [
      "mean r2: 0.93\n",
      "mean mae: 4.94\n",
      "Wall time: 18min 59s\n"
     ]
    }
   ],
   "source": [
    "%%time\n",
    "cv= cross_validate(KNC, xtrain.reshape(Ntr, -1), ytrain.reshape(Ntr, -1), cv=3, scoring=[\"r2\", \"neg_mean_absolute_error\"], n_jobs=-1)\n",
    "r2 = cv[\"test_r2\"]\n",
    "mae = -cv[\"test_neg_mean_absolute_error\"]\n",
    "print(f\"mean r2: {r2.mean():0.2f}\")\n",
    "print(f\"mean mae: {mae.mean():,.2f}\")"
   ]
  },
  {
   "cell_type": "markdown",
   "metadata": {},
   "source": [
    "¿Qué resultados arroja cada modelo?  \n",
    "\n",
    "KNeighbors con reducción de dimensión:  \n",
    "accuracy: 0.9738  \n",
    "Wall time: 22.7 s  \n",
    "\n",
    "KNeighbors sin reducción de dimensión:  \n",
    "accuracy: 0.9688  \n",
    "Wall time: 29min 16s  \n",
    "    \n",
    "CV: KNeighbors con reducción de dimensión:  \n",
    "mean r2: 0.94  \n",
    "mean mae: 3.78  \n",
    "Wall time: 1min 16s    \n",
    "\n",
    "CV: KNeighbors sin reducción de dimensión:  \n",
    "mean r2: 0.93  \n",
    "mean mae: 4.94  \n",
    "Wall time: 18min 59s  "
   ]
  },
  {
   "cell_type": "markdown",
   "metadata": {},
   "source": [
    "¿Qué ventajas tiene cada modelo?\n",
    "\n",
    "En ambos casos tanto al hacer CV como no, la reducción de dimensiones nos ayuda en tiempo computacional de forma abismal.\n",
    "Además la precisión es muy parecida en ambos experimentos"
   ]
  },
  {
   "cell_type": "markdown",
   "metadata": {},
   "source": [
    "¿Cuánto tarda en correr cada cross-validation?  \n",
    "\n",
    "CV: KNeighbors con reducción de dimensión:  \n",
    "mean r2: 0.94  \n",
    "mean mae: 3.78  \n",
    "Wall time: 1min 16s    \n",
    "\n",
    "CV: KNeighbors sin reducción de dimensión:  \n",
    "mean r2: 0.93  \n",
    "mean mae: 4.94  \n",
    "Wall time: 18min 59s  \n"
   ]
  }
 ],
 "metadata": {
  "kernelspec": {
   "display_name": "Python 3",
   "language": "python",
   "name": "python3"
  },
  "language_info": {
   "codemirror_mode": {
    "name": "ipython",
    "version": 3
   },
   "file_extension": ".py",
   "mimetype": "text/x-python",
   "name": "python",
   "nbconvert_exporter": "python",
   "pygments_lexer": "ipython3",
   "version": "3.7.4"
  }
 },
 "nbformat": 4,
 "nbformat_minor": 2
}
